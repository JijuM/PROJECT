{
 "cells": [
  {
   "cell_type": "code",
   "execution_count": 15,
   "id": "5e118c03",
   "metadata": {},
   "outputs": [],
   "source": [
    "import pandas as pd\n",
    "import matplotlib.pyplot as plt\n",
    "import numpy as np"
   ]
  },
  {
   "cell_type": "code",
   "execution_count": 2,
   "id": "2b4ec6e2",
   "metadata": {},
   "outputs": [
    {
     "data": {
      "text/html": [
       "<div>\n",
       "<style scoped>\n",
       "    .dataframe tbody tr th:only-of-type {\n",
       "        vertical-align: middle;\n",
       "    }\n",
       "\n",
       "    .dataframe tbody tr th {\n",
       "        vertical-align: top;\n",
       "    }\n",
       "\n",
       "    .dataframe thead th {\n",
       "        text-align: right;\n",
       "    }\n",
       "</style>\n",
       "<table border=\"1\" class=\"dataframe\">\n",
       "  <thead>\n",
       "    <tr style=\"text-align: right;\">\n",
       "      <th></th>\n",
       "      <th>Rank</th>\n",
       "      <th>Channel Info</th>\n",
       "      <th>Influence Score</th>\n",
       "      <th>Followers</th>\n",
       "      <th>Avg. Likes</th>\n",
       "      <th>Posts</th>\n",
       "      <th>60-Day Eng Rate</th>\n",
       "      <th>New Post Avg. Likes</th>\n",
       "      <th>Total Likes</th>\n",
       "      <th>Country Or Region</th>\n",
       "    </tr>\n",
       "  </thead>\n",
       "  <tbody>\n",
       "    <tr>\n",
       "      <th>0</th>\n",
       "      <td>1</td>\n",
       "      <td>\\ncristiano</td>\n",
       "      <td>92</td>\n",
       "      <td>485.2m</td>\n",
       "      <td>8.7m</td>\n",
       "      <td>3.4k</td>\n",
       "      <td>0.013</td>\n",
       "      <td>6.3m</td>\n",
       "      <td>29.1b</td>\n",
       "      <td>Spain</td>\n",
       "    </tr>\n",
       "    <tr>\n",
       "      <th>1</th>\n",
       "      <td>2</td>\n",
       "      <td>kyliejenner</td>\n",
       "      <td>91</td>\n",
       "      <td>370.7m</td>\n",
       "      <td>8.2m</td>\n",
       "      <td>7.0k</td>\n",
       "      <td>0.014</td>\n",
       "      <td>5.0m</td>\n",
       "      <td>57.4b</td>\n",
       "      <td>United States</td>\n",
       "    </tr>\n",
       "    <tr>\n",
       "      <th>2</th>\n",
       "      <td>3</td>\n",
       "      <td>\\nleomessi</td>\n",
       "      <td>90</td>\n",
       "      <td>363.9m</td>\n",
       "      <td>6.7m</td>\n",
       "      <td>915</td>\n",
       "      <td>0.010</td>\n",
       "      <td>3.5m</td>\n",
       "      <td>6.1b</td>\n",
       "      <td>NaN</td>\n",
       "    </tr>\n",
       "    <tr>\n",
       "      <th>3</th>\n",
       "      <td>4</td>\n",
       "      <td>\\nselenagomez</td>\n",
       "      <td>93</td>\n",
       "      <td>348.8m</td>\n",
       "      <td>6.1m</td>\n",
       "      <td>1.9k</td>\n",
       "      <td>0.005</td>\n",
       "      <td>1.7m</td>\n",
       "      <td>11.4b</td>\n",
       "      <td>United States</td>\n",
       "    </tr>\n",
       "    <tr>\n",
       "      <th>4</th>\n",
       "      <td>5</td>\n",
       "      <td>\\ntherock</td>\n",
       "      <td>91</td>\n",
       "      <td>339.4m</td>\n",
       "      <td>1.8m</td>\n",
       "      <td>6.8k</td>\n",
       "      <td>0.003</td>\n",
       "      <td>932.0k</td>\n",
       "      <td>12.6b</td>\n",
       "      <td>United States</td>\n",
       "    </tr>\n",
       "  </tbody>\n",
       "</table>\n",
       "</div>"
      ],
      "text/plain": [
       "   Rank   Channel Info  Influence Score Followers Avg. Likes Posts  \\\n",
       "0     1    \\ncristiano               92    485.2m       8.7m  3.4k   \n",
       "1     2    kyliejenner               91    370.7m       8.2m  7.0k   \n",
       "2     3     \\nleomessi               90    363.9m       6.7m   915   \n",
       "3     4  \\nselenagomez               93    348.8m       6.1m  1.9k   \n",
       "4     5      \\ntherock               91    339.4m       1.8m  6.8k   \n",
       "\n",
       "   60-Day Eng Rate New Post Avg. Likes Total Likes Country Or Region  \n",
       "0            0.013                6.3m       29.1b             Spain  \n",
       "1            0.014                5.0m       57.4b     United States  \n",
       "2            0.010                3.5m        6.1b               NaN  \n",
       "3            0.005                1.7m       11.4b     United States  \n",
       "4            0.003              932.0k       12.6b     United States  "
      ]
     },
     "execution_count": 2,
     "metadata": {},
     "output_type": "execute_result"
    }
   ],
   "source": [
    "\n",
    "df=pd.read_csv(\"Influencer.csv\")\n",
    "df.head()"
   ]
  },
  {
   "cell_type": "code",
   "execution_count": 3,
   "id": "b3073266",
   "metadata": {},
   "outputs": [],
   "source": [
    "post=list(df['Posts'])\n",
    "post1=list()\n",
    "for num in post:\n",
    "    if 'k' in num:\n",
    "        new_num=1000*float(num.replace('k',''))\n",
    "        post1.append(new_num)\n",
    "    else:\n",
    "        post1.append(float(num))\n",
    "df['Posts']=post1\n",
    "\n",
    "followers=list(df['Followers'])\n",
    "followers1=list()\n",
    "for num in followers:\n",
    "    if 'm' in num:\n",
    "        new_num=100000*float(num.replace('m',''))\n",
    "        followers1.append(new_num)\n",
    "    else:\n",
    "        followers1.append(float(num))\n",
    "df['Followers']=followers1\n",
    "\n",
    "avg_likes=list(df['Avg. Likes'])\n",
    "avg_likes1=list()\n",
    "for num in avg_likes:\n",
    "    if 'm' in num:\n",
    "        new_num=1000000*float(num.replace('m',''))\n",
    "        avg_likes1.append(new_num)\n",
    "    else:\n",
    "        new_num=1000*float(num.replace('k',''))\n",
    "        avg_likes1.append(new_num)\n",
    "df['Avg. Likes']=avg_likes1\n",
    "\n",
    "new_post_avg_like=list(df['New Post Avg. Likes'])\n",
    "new_post_avg_like1=list()\n",
    "for num in new_post_avg_like:\n",
    "    if 'm' in num:\n",
    "        new_num=1000000*float(num.replace('m',''))\n",
    "        new_post_avg_like1.append(new_num)\n",
    "    else:\n",
    "        new_num=1000*float(num.replace('k',''))\n",
    "        new_post_avg_like1.append(new_num)\n",
    "df[\"New Post Avg. Likes\"]=new_post_avg_like1\n",
    "\n",
    "total_likes=list(df['Total Likes'])\n",
    "total_likes1=list()\n",
    "for num in total_likes:\n",
    "    if 'b' in num:\n",
    "        new_num=1000000000*float(num.replace('b',''))\n",
    "        total_likes1.append(new_num)\n",
    "    else:\n",
    "        new_num=1000000*float(num.replace('m',''))\n",
    "        total_likes1.append(new_num)\n",
    "df['Total Likes']=total_likes1\n"
   ]
  },
  {
   "cell_type": "code",
   "execution_count": 5,
   "id": "cf39ad6f",
   "metadata": {},
   "outputs": [
    {
     "data": {
      "text/html": [
       "<div>\n",
       "<style scoped>\n",
       "    .dataframe tbody tr th:only-of-type {\n",
       "        vertical-align: middle;\n",
       "    }\n",
       "\n",
       "    .dataframe tbody tr th {\n",
       "        vertical-align: top;\n",
       "    }\n",
       "\n",
       "    .dataframe thead th {\n",
       "        text-align: right;\n",
       "    }\n",
       "</style>\n",
       "<table border=\"1\" class=\"dataframe\">\n",
       "  <thead>\n",
       "    <tr style=\"text-align: right;\">\n",
       "      <th></th>\n",
       "      <th>Rank</th>\n",
       "      <th>Channel Info</th>\n",
       "      <th>Influence Score</th>\n",
       "      <th>Followers</th>\n",
       "      <th>Avg. Likes</th>\n",
       "      <th>Posts</th>\n",
       "      <th>60-Day Eng Rate</th>\n",
       "      <th>New Post Avg. Likes</th>\n",
       "      <th>Total Likes</th>\n",
       "      <th>Country Or Region</th>\n",
       "    </tr>\n",
       "  </thead>\n",
       "  <tbody>\n",
       "    <tr>\n",
       "      <th>0</th>\n",
       "      <td>1</td>\n",
       "      <td>\\ncristiano</td>\n",
       "      <td>92</td>\n",
       "      <td>48520000.0</td>\n",
       "      <td>8700000.0</td>\n",
       "      <td>3400.0</td>\n",
       "      <td>0.013</td>\n",
       "      <td>6300000.0</td>\n",
       "      <td>2.910000e+10</td>\n",
       "      <td>Spain</td>\n",
       "    </tr>\n",
       "    <tr>\n",
       "      <th>1</th>\n",
       "      <td>2</td>\n",
       "      <td>kyliejenner</td>\n",
       "      <td>91</td>\n",
       "      <td>37070000.0</td>\n",
       "      <td>8200000.0</td>\n",
       "      <td>7000.0</td>\n",
       "      <td>0.014</td>\n",
       "      <td>5000000.0</td>\n",
       "      <td>5.740000e+10</td>\n",
       "      <td>United States</td>\n",
       "    </tr>\n",
       "    <tr>\n",
       "      <th>2</th>\n",
       "      <td>3</td>\n",
       "      <td>\\nleomessi</td>\n",
       "      <td>90</td>\n",
       "      <td>36390000.0</td>\n",
       "      <td>6700000.0</td>\n",
       "      <td>915.0</td>\n",
       "      <td>0.010</td>\n",
       "      <td>3500000.0</td>\n",
       "      <td>6.100000e+09</td>\n",
       "      <td>NaN</td>\n",
       "    </tr>\n",
       "    <tr>\n",
       "      <th>3</th>\n",
       "      <td>4</td>\n",
       "      <td>\\nselenagomez</td>\n",
       "      <td>93</td>\n",
       "      <td>34880000.0</td>\n",
       "      <td>6100000.0</td>\n",
       "      <td>1900.0</td>\n",
       "      <td>0.005</td>\n",
       "      <td>1700000.0</td>\n",
       "      <td>1.140000e+10</td>\n",
       "      <td>United States</td>\n",
       "    </tr>\n",
       "    <tr>\n",
       "      <th>4</th>\n",
       "      <td>5</td>\n",
       "      <td>\\ntherock</td>\n",
       "      <td>91</td>\n",
       "      <td>33940000.0</td>\n",
       "      <td>1800000.0</td>\n",
       "      <td>6800.0</td>\n",
       "      <td>0.003</td>\n",
       "      <td>932000.0</td>\n",
       "      <td>1.260000e+10</td>\n",
       "      <td>United States</td>\n",
       "    </tr>\n",
       "  </tbody>\n",
       "</table>\n",
       "</div>"
      ],
      "text/plain": [
       "   Rank   Channel Info  Influence Score   Followers  Avg. Likes   Posts  \\\n",
       "0     1    \\ncristiano               92  48520000.0   8700000.0  3400.0   \n",
       "1     2    kyliejenner               91  37070000.0   8200000.0  7000.0   \n",
       "2     3     \\nleomessi               90  36390000.0   6700000.0   915.0   \n",
       "3     4  \\nselenagomez               93  34880000.0   6100000.0  1900.0   \n",
       "4     5      \\ntherock               91  33940000.0   1800000.0  6800.0   \n",
       "\n",
       "   60-Day Eng Rate  New Post Avg. Likes   Total Likes Country Or Region  \n",
       "0            0.013            6300000.0  2.910000e+10             Spain  \n",
       "1            0.014            5000000.0  5.740000e+10     United States  \n",
       "2            0.010            3500000.0  6.100000e+09               NaN  \n",
       "3            0.005            1700000.0  1.140000e+10     United States  \n",
       "4            0.003             932000.0  1.260000e+10     United States  "
      ]
     },
     "execution_count": 5,
     "metadata": {},
     "output_type": "execute_result"
    }
   ],
   "source": [
    "df.head()"
   ]
  },
  {
   "cell_type": "code",
   "execution_count": 7,
   "id": "af6b3937",
   "metadata": {},
   "outputs": [
    {
     "data": {
      "text/html": [
       "<div>\n",
       "<style scoped>\n",
       "    .dataframe tbody tr th:only-of-type {\n",
       "        vertical-align: middle;\n",
       "    }\n",
       "\n",
       "    .dataframe tbody tr th {\n",
       "        vertical-align: top;\n",
       "    }\n",
       "\n",
       "    .dataframe thead th {\n",
       "        text-align: right;\n",
       "    }\n",
       "</style>\n",
       "<table border=\"1\" class=\"dataframe\">\n",
       "  <thead>\n",
       "    <tr style=\"text-align: right;\">\n",
       "      <th></th>\n",
       "      <th>Rank</th>\n",
       "      <th>Influence Score</th>\n",
       "      <th>Followers</th>\n",
       "      <th>Avg. Likes</th>\n",
       "      <th>Posts</th>\n",
       "      <th>60-Day Eng Rate</th>\n",
       "      <th>New Post Avg. Likes</th>\n",
       "      <th>Total Likes</th>\n",
       "    </tr>\n",
       "  </thead>\n",
       "  <tbody>\n",
       "    <tr>\n",
       "      <th>Rank</th>\n",
       "      <td>1.000000</td>\n",
       "      <td>-0.354843</td>\n",
       "      <td>-0.698193</td>\n",
       "      <td>-0.277699</td>\n",
       "      <td>-0.058132</td>\n",
       "      <td>0.028900</td>\n",
       "      <td>-0.272323</td>\n",
       "      <td>-0.465119</td>\n",
       "    </tr>\n",
       "    <tr>\n",
       "      <th>Influence Score</th>\n",
       "      <td>-0.354843</td>\n",
       "      <td>1.000000</td>\n",
       "      <td>0.365428</td>\n",
       "      <td>0.048502</td>\n",
       "      <td>0.168287</td>\n",
       "      <td>-0.072460</td>\n",
       "      <td>0.040011</td>\n",
       "      <td>0.234987</td>\n",
       "    </tr>\n",
       "    <tr>\n",
       "      <th>Followers</th>\n",
       "      <td>-0.698193</td>\n",
       "      <td>0.365428</td>\n",
       "      <td>1.000000</td>\n",
       "      <td>0.346829</td>\n",
       "      <td>0.069171</td>\n",
       "      <td>-0.107439</td>\n",
       "      <td>0.260764</td>\n",
       "      <td>0.667546</td>\n",
       "    </tr>\n",
       "    <tr>\n",
       "      <th>Avg. Likes</th>\n",
       "      <td>-0.277699</td>\n",
       "      <td>0.048502</td>\n",
       "      <td>0.346829</td>\n",
       "      <td>1.000000</td>\n",
       "      <td>-0.348795</td>\n",
       "      <td>0.789359</td>\n",
       "      <td>0.892784</td>\n",
       "      <td>0.361296</td>\n",
       "    </tr>\n",
       "    <tr>\n",
       "      <th>Posts</th>\n",
       "      <td>-0.058132</td>\n",
       "      <td>0.168287</td>\n",
       "      <td>0.069171</td>\n",
       "      <td>-0.348795</td>\n",
       "      <td>1.000000</td>\n",
       "      <td>-0.334047</td>\n",
       "      <td>-0.285154</td>\n",
       "      <td>0.232038</td>\n",
       "    </tr>\n",
       "    <tr>\n",
       "      <th>60-Day Eng Rate</th>\n",
       "      <td>0.028900</td>\n",
       "      <td>-0.072460</td>\n",
       "      <td>-0.107439</td>\n",
       "      <td>0.789359</td>\n",
       "      <td>-0.334047</td>\n",
       "      <td>1.000000</td>\n",
       "      <td>0.866293</td>\n",
       "      <td>-0.001560</td>\n",
       "    </tr>\n",
       "    <tr>\n",
       "      <th>New Post Avg. Likes</th>\n",
       "      <td>-0.272323</td>\n",
       "      <td>0.040011</td>\n",
       "      <td>0.260764</td>\n",
       "      <td>0.892784</td>\n",
       "      <td>-0.285154</td>\n",
       "      <td>0.866293</td>\n",
       "      <td>1.000000</td>\n",
       "      <td>0.351335</td>\n",
       "    </tr>\n",
       "    <tr>\n",
       "      <th>Total Likes</th>\n",
       "      <td>-0.465119</td>\n",
       "      <td>0.234987</td>\n",
       "      <td>0.667546</td>\n",
       "      <td>0.361296</td>\n",
       "      <td>0.232038</td>\n",
       "      <td>-0.001560</td>\n",
       "      <td>0.351335</td>\n",
       "      <td>1.000000</td>\n",
       "    </tr>\n",
       "  </tbody>\n",
       "</table>\n",
       "</div>"
      ],
      "text/plain": [
       "                         Rank  Influence Score  Followers  Avg. Likes  \\\n",
       "Rank                 1.000000        -0.354843  -0.698193   -0.277699   \n",
       "Influence Score     -0.354843         1.000000   0.365428    0.048502   \n",
       "Followers           -0.698193         0.365428   1.000000    0.346829   \n",
       "Avg. Likes          -0.277699         0.048502   0.346829    1.000000   \n",
       "Posts               -0.058132         0.168287   0.069171   -0.348795   \n",
       "60-Day Eng Rate      0.028900        -0.072460  -0.107439    0.789359   \n",
       "New Post Avg. Likes -0.272323         0.040011   0.260764    0.892784   \n",
       "Total Likes         -0.465119         0.234987   0.667546    0.361296   \n",
       "\n",
       "                        Posts  60-Day Eng Rate  New Post Avg. Likes  \\\n",
       "Rank                -0.058132         0.028900            -0.272323   \n",
       "Influence Score      0.168287        -0.072460             0.040011   \n",
       "Followers            0.069171        -0.107439             0.260764   \n",
       "Avg. Likes          -0.348795         0.789359             0.892784   \n",
       "Posts                1.000000        -0.334047            -0.285154   \n",
       "60-Day Eng Rate     -0.334047         1.000000             0.866293   \n",
       "New Post Avg. Likes -0.285154         0.866293             1.000000   \n",
       "Total Likes          0.232038        -0.001560             0.351335   \n",
       "\n",
       "                     Total Likes  \n",
       "Rank                   -0.465119  \n",
       "Influence Score         0.234987  \n",
       "Followers               0.667546  \n",
       "Avg. Likes              0.361296  \n",
       "Posts                   0.232038  \n",
       "60-Day Eng Rate        -0.001560  \n",
       "New Post Avg. Likes     0.351335  \n",
       "Total Likes             1.000000  "
      ]
     },
     "execution_count": 7,
     "metadata": {},
     "output_type": "execute_result"
    }
   ],
   "source": [
    "#getting the correlation of all the columns in the dataframe\n",
    "df.corr()"
   ]
  },
  {
   "cell_type": "markdown",
   "id": "0cc187fb",
   "metadata": {},
   "source": [
    "Getting frequency distribution of :\n",
    "    1. Influence score\n",
    "    2. Followers\n",
    "    3. Posts"
   ]
  },
  {
   "cell_type": "code",
   "execution_count": 10,
   "id": "e8da8cd7",
   "metadata": {},
   "outputs": [
    {
     "data": {
      "text/plain": [
       "(array([  1.,   0.,   3.,   1.,   1.,   2.,   3.,  25., 107.,  57.]),\n",
       " array([22. , 29.1, 36.2, 43.3, 50.4, 57.5, 64.6, 71.7, 78.8, 85.9, 93. ]),\n",
       " <BarContainer object of 10 artists>)"
      ]
     },
     "execution_count": 10,
     "metadata": {},
     "output_type": "execute_result"
    },
    {
     "data": {
      "image/png": "[encoded data removed]",
      "text/plain": [
       "<Figure size 432x288 with 1 Axes>"
      ]
     },
     "metadata": {
      "needs_background": "light"
     },
     "output_type": "display_data"
    }
   ],
   "source": [
    "\n",
    "plt.hist(df['Influence Score'])"
   ]
  },
  {
   "cell_type": "code",
   "execution_count": 11,
   "id": "632bea15",
   "metadata": {},
   "outputs": [
    {
     "data": {
      "text/plain": [
       "(array([161.,  10.,   8.,   5.,   6.,   3.,   4.,   2.,   0.,   1.]),\n",
       " array([ 3340000.,  7858000., 12376000., 16894000., 21412000., 25930000.,\n",
       "        30448000., 34966000., 39484000., 44002000., 48520000.]),\n",
       " <BarContainer object of 10 artists>)"
      ]
     },
     "execution_count": 11,
     "metadata": {},
     "output_type": "execute_result"
    },
    {
     "data": {
      "image/png": "[encoded data removed]",
      "text/plain": [
       "<Figure size 432x288 with 1 Axes>"
      ]
     },
     "metadata": {
      "needs_background": "light"
     },
     "output_type": "display_data"
    }
   ],
   "source": [
    "plt.hist(df['Followers'])"
   ]
  },
  {
   "cell_type": "code",
   "execution_count": 12,
   "id": "6986be85",
   "metadata": {},
   "outputs": [
    {
     "data": {
      "text/plain": [
       "(array([84., 44., 22., 13., 11., 22.,  2.,  1.,  0.,  1.]),\n",
       " array([   20.,  1708.,  3396.,  5084.,  6772.,  8460., 10148., 11836.,\n",
       "        13524., 15212., 16900.]),\n",
       " <BarContainer object of 10 artists>)"
      ]
     },
     "execution_count": 12,
     "metadata": {},
     "output_type": "execute_result"
    },
    {
     "data": {
      "image/png": "[encoded data removed]",
      "text/plain": [
       "<Figure size 432x288 with 1 Axes>"
      ]
     },
     "metadata": {
      "needs_background": "light"
     },
     "output_type": "display_data"
    }
   ],
   "source": [
    "plt.hist(df['Posts'])"
   ]
  },
  {
   "cell_type": "markdown",
   "id": "1775ce8a",
   "metadata": {},
   "source": [
    "# Which country houses the highest number of Instagram Influencers?\n",
    "Please show thecount of Instagram influencers in different countries using barchart."
   ]
  },
  {
   "cell_type": "code",
   "execution_count": 13,
   "id": "108b89e3",
   "metadata": {},
   "outputs": [
    {
     "data": {
      "text/plain": [
       "array(['Spain', 'United States', nan, 'Canada', 'Brazil', 'Netherlands',\n",
       "       'United Kingdom', 'India', 'Uruguay', 'Turkey', 'Indonesia',\n",
       "       'Colombia', 'France', 'Australia', 'Italy', 'United Arab Emirates',\n",
       "       'Puerto Rico', \"CÃ´te d'Ivoire\", 'Anguilla', 'Switzerland',\n",
       "       'Sweden', 'British Virgin Islands', 'Czech Republic', 'Mexico',\n",
       "       'Germany', 'Russia'], dtype=object)"
      ]
     },
     "execution_count": 13,
     "metadata": {},
     "output_type": "execute_result"
    }
   ],
   "source": [
    "df['Country Or Region'].unique()"
   ]
  },
  {
   "cell_type": "code",
   "execution_count": 18,
   "id": "6ed380d7",
   "metadata": {},
   "outputs": [
    {
     "name": "stdout",
     "output_type": "stream",
     "text": [
      "United States             65\n",
      "Brazil                    13\n",
      "India                     12\n",
      "Indonesia                  7\n",
      "France                     6\n",
      "Spain                      5\n",
      "United Kingdom             4\n",
      "Colombia                   3\n",
      "Canada                     3\n",
      "Mexico                     2\n",
      "Turkey                     2\n",
      "Netherlands                2\n",
      "Switzerland                1\n",
      "Germany                    1\n",
      "Czech Republic             1\n",
      "British Virgin Islands     1\n",
      "Sweden                     1\n",
      "Australia                  1\n",
      "Anguilla                   1\n",
      "CÃ´te d'Ivoire             1\n",
      "Puerto Rico                1\n",
      "United Arab Emirates       1\n",
      "Italy                      1\n",
      "Uruguay                    1\n",
      "Russia                     1\n",
      "Name: Country Or Region, dtype: int64\n"
     ]
    },
    {
     "data": {
      "text/plain": [
       "<AxesSubplot:>"
      ]
     },
     "execution_count": 18,
     "metadata": {},
     "output_type": "execute_result"
    },
    {
     "data": {
      "image/png": "[encoded data removed]",
      "text/plain": [
       "<Figure size 432x288 with 1 Axes>"
      ]
     },
     "metadata": {
      "needs_background": "light"
     },
     "output_type": "display_data"
    }
   ],
   "source": [
    "c=df['Country Or Region'].value_counts()\n",
    "print(c)\n",
    "c.plot.bar()"
   ]
  },
  {
   "cell_type": "markdown",
   "id": "795a8fa2",
   "metadata": {},
   "source": [
    "# Who are the top 10 influencers in the given dataset based on the following features\n",
    "● Followers\n",
    "● Average likes\n",
    "● Total Likes"
   ]
  },
  {
   "cell_type": "code",
   "execution_count": 21,
   "id": "9f1eb59c",
   "metadata": {},
   "outputs": [
    {
     "name": "stdout",
     "output_type": "stream",
     "text": [
      "0                \\ncristiano\n",
      "1                kyliejenner\n",
      "2                 \\nleomessi\n",
      "3              \\nselenagomez\n",
      "4                  \\ntherock\n",
      "               ...          \n",
      "195    \\nkhabib_nurmagomedov\n",
      "196           \\ndanbilzerian\n",
      "197              \\nraisa6690\n",
      "198            \\nluansantana\n",
      "199             \\nnancyajram\n",
      "Name: Channel Info, Length: 200, dtype: object\n"
     ]
    },
    {
     "ename": "TypeError",
     "evalue": "'NoneType' object is not subscriptable",
     "output_type": "error",
     "traceback": [
      "\u001b[0;31m---------------------------------------------------------------------------\u001b[0m",
      "\u001b[0;31mTypeError\u001b[0m                                 Traceback (most recent call last)",
      "Input \u001b[0;32mIn [21]\u001b[0m, in \u001b[0;36m<cell line: 6>\u001b[0;34m()\u001b[0m\n\u001b[1;32m      6\u001b[0m \u001b[38;5;28;01mfor\u001b[39;00m each \u001b[38;5;129;01min\u001b[39;00m df[\u001b[38;5;124m'\u001b[39m\u001b[38;5;124mFollowers_sorted\u001b[39m\u001b[38;5;124m'\u001b[39m]:\n\u001b[1;32m      7\u001b[0m     \u001b[38;5;28;01mif\u001b[39;00m each \u001b[38;5;241m==\u001b[39m df[\u001b[38;5;124m'\u001b[39m\u001b[38;5;124mFollowers\u001b[39m\u001b[38;5;124m'\u001b[39m][i]:\n\u001b[0;32m----> 8\u001b[0m         \u001b[38;5;28;43mprint\u001b[39;49m\u001b[43m(\u001b[49m\u001b[43mdf\u001b[49m\u001b[43m[\u001b[49m\u001b[38;5;124;43m'\u001b[39;49m\u001b[38;5;124;43mChannel Info\u001b[39;49m\u001b[38;5;124;43m'\u001b[39;49m\u001b[43m]\u001b[49m\u001b[43m)\u001b[49m\u001b[43m[\u001b[49m\u001b[43mi\u001b[49m\u001b[43m]\u001b[49m\n\u001b[1;32m      9\u001b[0m     i\u001b[38;5;241m=\u001b[39mi\u001b[38;5;241m+\u001b[39m\u001b[38;5;241m1\u001b[39m\n",
      "\u001b[0;31mTypeError\u001b[0m: 'NoneType' object is not subscriptable"
     ]
    },
    {
     "data": {
      "image/png": "[encoded data removed]",
      "text/plain": [
       "<Figure size 432x288 with 1 Axes>"
      ]
     },
     "metadata": {
      "needs_background": "light"
     },
     "output_type": "display_data"
    }
   ],
   "source": [
    "plt.bar(list(df['Channel Info']),list(df['Followers']))\n",
    "plt.xticks(rotation=90)\n",
    "df['Followers_sorted']=df['Followers'].sort_values(ascending=False)\n",
    "i=0\n",
    "\n",
    "for each in df['Followers_sorted']:\n",
    "    if each == df['Followers'][i]:\n",
    "        print(df['Channel Info'])[i]\n",
    "    i=i+1\n",
    "    "
   ]
  },
  {
   "cell_type": "markdown",
   "id": "dc72d057",
   "metadata": {},
   "source": [
    "# Describe the relationship between the following pairs of features using a suitable graph\n",
    "● Followers and Total Likes\n",
    "● Followers and Influence Score\n",
    "● Posts and Average likes\n",
    "● Posts and Influence Score"
   ]
  },
  {
   "cell_type": "code",
   "execution_count": 38,
   "id": "a7a9488a",
   "metadata": {},
   "outputs": [
    {
     "data": {
      "text/plain": [
       "<matplotlib.collections.PathCollection at 0x7f923e4bf1c0>"
      ]
     },
     "execution_count": 38,
     "metadata": {},
     "output_type": "execute_result"
    },
    {
     "data": {
      "image/png": "[encoded data removed]",
      "text/plain": [
       "<Figure size 432x288 with 1 Axes>"
      ]
     },
     "metadata": {
      "needs_background": "light"
     },
     "output_type": "display_data"
    }
   ],
   "source": [
    "\n",
    "plt.scatter(df['Followers'],df['Total Likes'])"
   ]
  },
  {
   "cell_type": "code",
   "execution_count": 39,
   "id": "d9c93051",
   "metadata": {},
   "outputs": [
    {
     "data": {
      "text/plain": [
       "<matplotlib.collections.PathCollection at 0x7f923e4c7af0>"
      ]
     },
     "execution_count": 39,
     "metadata": {},
     "output_type": "execute_result"
    },
    {
     "data": {
      "image/png": "[encoded data removed]",
      "text/plain": [
       "<Figure size 432x288 with 1 Axes>"
      ]
     },
     "metadata": {
      "needs_background": "light"
     },
     "output_type": "display_data"
    }
   ],
   "source": [
    "plt.scatter(df['Followers'],df['Influence Score'])"
   ]
  },
  {
   "cell_type": "code",
   "execution_count": 43,
   "id": "3ec2133c",
   "metadata": {},
   "outputs": [
    {
     "data": {
      "text/plain": [
       "<matplotlib.collections.PathCollection at 0x7f923e74e430>"
      ]
     },
     "execution_count": 43,
     "metadata": {},
     "output_type": "execute_result"
    },
    {
     "data": {
      "image/png": "[encoded data removed]",
      "text/plain": [
       "<Figure size 432x288 with 1 Axes>"
      ]
     },
     "metadata": {
      "needs_background": "light"
     },
     "output_type": "display_data"
    }
   ],
   "source": [
    "plt.scatter(df['Posts'],df['Avg. Likes'])"
   ]
  },
  {
   "cell_type": "code",
   "execution_count": 45,
   "id": "3afbe88d",
   "metadata": {},
   "outputs": [
    {
     "data": {
      "text/plain": [
       "<matplotlib.collections.PathCollection at 0x7f923e7b2af0>"
      ]
     },
     "execution_count": 45,
     "metadata": {},
     "output_type": "execute_result"
    },
    {
     "data": {
      "image/png": "[encoded data removed]",
      "text/plain": [
       "<Figure size 432x288 with 1 Axes>"
      ]
     },
     "metadata": {
      "needs_background": "light"
     },
     "output_type": "display_data"
    }
   ],
   "source": [
    "plt.scatter(df[\"Posts\"],df[\"Influence Score\"])"
   ]
  },
  {
   "cell_type": "code",
   "execution_count": null,
   "id": "e35c35d6",
   "metadata": {},
   "outputs": [],
   "source": []
  }
 ],
 "metadata": {
  "kernelspec": {
   "display_name": "Python 3 (ipykernel)",
   "language": "python",
   "name": "python3"
  },
  "language_info": {
   "codemirror_mode": {
    "name": "ipython",
    "version": 3
   },
   "file_extension": ".py",
   "mimetype": "text/x-python",
   "name": "python",
   "nbconvert_exporter": "python",
   "pygments_lexer": "ipython3",
   "version": "3.9.12"
  }
 },
 "nbformat": 4,
 "nbformat_minor": 5
}
